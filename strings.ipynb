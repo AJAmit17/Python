{
 "cells": [
  {
   "attachments": {},
   "cell_type": "markdown",
   "metadata": {},
   "source": [
    "Q1. How can we store a single quote (‘) as a string 1n a variable?"
   ]
  },
  {
   "attachments": {},
   "cell_type": "markdown",
   "metadata": {},
   "source": [
    "Answer:\n",
    "\n",
    "To store a single quote (`'`) as a string in a variable, you can use one of the following methods:\n",
    "\n",
    "Method 1: Use double quotes for the string:\n",
    "```python\n",
    "my_variable = \"'\"\n",
    "print(my_variable)  # Output: '\n",
    "```\n",
    "\n",
    "In this method, you enclose the single quote within double quotes to create a string. The resulting string will contain the single quote character.\n",
    "\n",
    "Method 2: Use an escape character:\n",
    "```python\n",
    "my_variable = '\\''\n",
    "print(my_variable)  # Output: '\n",
    "```"
   ]
  },
  {
   "attachments": {},
   "cell_type": "markdown",
   "metadata": {},
   "source": [
    "Q2. Refer the below variable:\n",
    "x = 'a' \n",
    "Here, is x a character type or string type variable? Support your answer with an explanation."
   ]
  },
  {
   "attachments": {},
   "cell_type": "markdown",
   "metadata": {},
   "source": [
    "Answer:\n",
    "\n",
    "In Python, there is no separate character type like in some other programming languages. In Python, single characters are represented as strings of length 1. Therefore, in the given code snippet:\n",
    "\n",
    "```python\n",
    "x = 'a'\n",
    "```\n",
    "\n",
    "The variable `x` is a string type variable. It contains a string of length 1, which happens to be the character 'a'. Python treats single characters as strings because it does not have a distinct character type."
   ]
  },
  {
   "attachments": {},
   "cell_type": "markdown",
   "metadata": {},
   "source": [
    "Q3. Apply the following functions on this variable: 'Welcome to Python foundation course'\n",
    "\n",
    "1. find()\n",
    "\n",
    "2. count()\n",
    "\n",
    "3. len()\n",
    "\n",
    "4. Concatenation\n",
    "\n",
    "Note: You can use your choice of parameters. But make sure it is correct."
   ]
  },
  {
   "attachments": {},
   "cell_type": "markdown",
   "metadata": {},
   "source": [
    "Answer:\n",
    "\n",
    "Sure! Here are the functions applied to the given variable 'Welcome to Python foundation course':\n",
    "\n",
    "1. `find()`: The `find()` function is used to find the index of a substring within a string. It returns the index of the first occurrence of the substring or -1 if the substring is not found. \n",
    "\n",
    "Example usage:\n",
    "```python\n",
    "text = 'Welcome to Python foundation course'\n",
    "index = text.find('Python')\n",
    "print(index)\n",
    "```\n",
    "Output:\n",
    "```\n",
    "11\n",
    "```\n",
    "\n",
    "2. `count()`: The `count()` function is used to count the number of occurrences of a substring within a string.\n",
    "\n",
    "Example usage:\n",
    "```python\n",
    "text = 'Welcome to Python foundation course'\n",
    "count = text.count('o')\n",
    "print(count)\n",
    "```\n",
    "Output:\n",
    "```\n",
    "4\n",
    "```\n",
    "\n",
    "3. `len()`: The `len()` function is used to get the length of a string.\n",
    "\n",
    "Example usage:\n",
    "```python\n",
    "text = 'Welcome to Python foundation course'\n",
    "length = len(text)\n",
    "print(length)\n",
    "```\n",
    "Output:\n",
    "```\n",
    "32\n",
    "```\n",
    "\n",
    "4. Concatenation: Concatenation is used to combine two or more strings together.\n",
    "\n",
    "Example usage:\n",
    "```python\n",
    "text1 = 'Welcome to '\n",
    "text2 = 'Python foundation course'\n",
    "concatenated_text = text1 + text2\n",
    "print(concatenated_text)\n",
    "```\n",
    "Output:\n",
    "```\n",
    "Welcome to Python foundation course\n",
    "```"
   ]
  },
  {
   "attachments": {},
   "cell_type": "markdown",
   "metadata": {},
   "source": [
    "Q4. For the variable: word = 'PanaJi@12256 Calculate the following:\n",
    "\n",
    "(a) Total number of alphabets in lowercase\n",
    "\n",
    "(b) Total number of alphabets in uppercase\n",
    "\n",
    "(c) Total number of numerical in string"
   ]
  },
  {
   "attachments": {},
   "cell_type": "markdown",
   "metadata": {},
   "source": [
    "Answer:\n",
    "\n",
    "(a) Total number of alphabets in lowercase:\n",
    "To find the total number of lowercase alphabets, we can iterate over each character in the string and check if it is a lowercase alphabet using the `islower()` method.\n",
    "\n",
    "```python\n",
    "word = 'PanaJi@12256'\n",
    "lowercase_count = sum(1 for char in word if char.islower())\n",
    "print(lowercase_count)\n",
    "```\n",
    "\n",
    "Output:\n",
    "```\n",
    "5\n",
    "```\n",
    "\n",
    "\n",
    "(b) Total number of alphabets in uppercase:\n",
    "To find the total number of uppercase alphabets, we can similarly iterate over each character in the string and check if it is an uppercase alphabet using the `isupper()` method.\n",
    "\n",
    "```python\n",
    "word = 'PanaJi@12256'\n",
    "uppercase_count = sum(1 for char in word if char.isupper())\n",
    "print(uppercase_count)\n",
    "```\n",
    "\n",
    "Output:\n",
    "```\n",
    "2\n",
    "```\n",
    "\n",
    "(c) Total number of numerical characters in the string:\n",
    "To find the total number of numerical characters in the string, we can iterate over each character and check if it is a digit using the `isdigit()` method.\n",
    "\n",
    "```python\n",
    "word = 'PanaJi@12256'\n",
    "numeric_count = sum(1 for char in word if char.isdigit())\n",
    "print(numeric_count)\n",
    "```\n",
    "\n",
    "Output:\n",
    "```\n",
    "5\n",
    "```"
   ]
  },
  {
   "attachments": {},
   "cell_type": "markdown",
   "metadata": {},
   "source": [
    "Q5. Write a code to store a numerical value inside a variable then convert it into string."
   ]
  },
  {
   "attachments": {},
   "cell_type": "markdown",
   "metadata": {},
   "source": [
    "Answer:\n",
    "```python\n",
    "# Storing a numerical value in a variable\n",
    "num_value = 42\n",
    "\n",
    "# Converting the numerical value to a string\n",
    "str_value = str(num_value)\n",
    "\n",
    "# Printing the variable types and values\n",
    "print(\"num_value:\", num_value, type(num_value))\n",
    "print(\"str_value:\", str_value, type(str_value))\n",
    "```\n",
    "\n",
    "Output:\n",
    "```\n",
    "num_value: 42 <class 'int'>\n",
    "str_value: 42 <class 'str'>\n",
    "```"
   ]
  }
 ],
 "metadata": {
  "language_info": {
   "name": "python"
  },
  "orig_nbformat": 4
 },
 "nbformat": 4,
 "nbformat_minor": 2
}
