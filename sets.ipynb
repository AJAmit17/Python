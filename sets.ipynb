{
 "cells": [
  {
   "attachments": {},
   "cell_type": "markdown",
   "metadata": {},
   "source": [
    "Q1. What is a set in Python?"
   ]
  },
  {
   "attachments": {},
   "cell_type": "markdown",
   "metadata": {},
   "source": [
    "Answer: \n",
    "\n",
    "In Python, a set is an unordered collection of unique elements. It is a built-in data type that is used to store multiple items in a single variable. The elements in a set are unique, meaning that duplicates are not allowed."
   ]
  },
  {
   "attachments": {},
   "cell_type": "markdown",
   "metadata": {},
   "source": [
    "Q2.How do you create a set in Python?"
   ]
  },
  {
   "attachments": {},
   "cell_type": "markdown",
   "metadata": {},
   "source": [
    "Answer:\n",
    "\n",
    "In Python, you can create a set using curly braces `{}` or the built-in `set()` function. Here are two methods to create a set in Python:\n",
    "\n",
    "Method 1: Using Curly Braces\n",
    "You can define a set by enclosing comma-separated elements inside curly braces `{}`.\n",
    "\n",
    "```python\n",
    "my_set = {1, 2, 3, 4, 5}\n",
    "print(my_set)\n",
    "```\n",
    "\n",
    "Output:\n",
    "```\n",
    "{1, 2, 3, 4, 5}\n",
    "```\n",
    "\n",
    "In this example, we create a set called `my_set` containing elements `1`, `2`, `3`, `4`, and `5` using curly braces.\n",
    "\n",
    "Method 2: Using the `set()` Function\n",
    "You can also create a set using the `set()` function by passing an iterable (like a list, tuple, or string) as an argument.\n",
    "\n",
    "```python\n",
    "my_set = set([1, 2, 3, 4, 5])\n",
    "print(my_set)\n",
    "```\n",
    "\n",
    "Output:\n",
    "```\n",
    "{1, 2, 3, 4, 5}\n",
    "```"
   ]
  },
  {
   "attachments": {},
   "cell_type": "markdown",
   "metadata": {},
   "source": [
    "Q3. How do you add elements to a set in Python?"
   ]
  },
  {
   "attachments": {},
   "cell_type": "markdown",
   "metadata": {},
   "source": [
    "Answer:\n",
    "\n",
    "In Python, you can add elements to a set using the `add()` method. The `add()` method takes a single argument (an element to be added) and adds it to the set.\n",
    "\n",
    "```python\n",
    "my_set = {1, 2, 3, 4, 5}\n",
    "my_set.add(6)\n",
    "print(my_set)\n",
    "```\n",
    "\n",
    "Output:\n",
    "```\n",
    "{1, 2, 3, 4, 5, 6}\n",
    "```"
   ]
  },
  {
   "attachments": {},
   "cell_type": "markdown",
   "metadata": {},
   "source": [
    "Q4. How do you remove elements from a set in Python?"
   ]
  },
  {
   "attachments": {},
   "cell_type": "markdown",
   "metadata": {},
   "source": [
    "Answer:\n",
    "\n",
    "In Python, you can remove elements from a set using the `remove()` method. The `remove()` method takes a single argument (an element to be removed) and removes it from the set.\n",
    "\n",
    "```python   \n",
    "my_set = {1, 2, 3, 4, 5}\n",
    "my_set.remove(5)\n",
    "print(my_set)\n",
    "```\n",
    "\n",
    "Output:\n",
    "```\n",
    "{1, 2, 3, 4}\n",
    "```"
   ]
  },
  {
   "attachments": {},
   "cell_type": "markdown",
   "metadata": {},
   "source": [
    "Q5. How do you get the length of a set in Python?"
   ]
  },
  {
   "attachments": {},
   "cell_type": "markdown",
   "metadata": {},
   "source": [
    "Answer:\n",
    "\n",
    "In Python, you can get the length of a set using the `len()` function. The `len()` function takes a single argument (a set) and returns the number of elements in the set.\n",
    "\n",
    "```python\n",
    "my_set = {1, 2, 3, 4, 5}\n",
    "print(len(my_set))\n",
    "```\n",
    "\n",
    "Output:\n",
    "```\n",
    "5\n",
    "```"
   ]
  }
 ],
 "metadata": {
  "language_info": {
   "name": "python"
  },
  "orig_nbformat": 4
 },
 "nbformat": 4,
 "nbformat_minor": 2
}
